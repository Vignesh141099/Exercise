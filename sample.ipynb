{
  "nbformat": 4,
  "nbformat_minor": 0,
  "metadata": {
    "colab": {
      "name": "sample.ipynb",
      "provenance": [],
      "collapsed_sections": [],
      "authorship_tag": "ABX9TyNUWU6t7EdYnL0RSZFdabba",
      "include_colab_link": true
    },
    "kernelspec": {
      "name": "python3",
      "display_name": "Python 3"
    },
    "language_info": {
      "name": "python"
    }
  },
  "cells": [
    {
      "cell_type": "markdown",
      "metadata": {
        "id": "view-in-github",
        "colab_type": "text"
      },
      "source": [
        "<a href=\"https://colab.research.google.com/github/Vignesh141099/Exercise/blob/main/sample.ipynb\" target=\"_parent\"><img src=\"https://colab.research.google.com/assets/colab-badge.svg\" alt=\"Open In Colab\"/></a>"
      ]
    },
    {
      "cell_type": "code",
      "execution_count": 9,
      "metadata": {
        "colab": {
          "base_uri": "https://localhost:8080/"
        },
        "id": "_Yl4lFnObfjy",
        "outputId": "19810612-88b7-4de5-a110-56309e3ad0f5"
      },
      "outputs": [
        {
          "output_type": "stream",
          "name": "stdout",
          "text": [
            "Overwriting script1.py\n"
          ]
        }
      ],
      "source": [
        "%%writefile script1.py\n",
        "n1= input(\"Enter the number:\")\n",
        "n2 = input(\"Enter the number:\")\n",
        "\n",
        "if n1>n2:\n",
        "  print(n1 is larger )\n",
        "else:\n",
        "  print(n2 is smaller)\n"
      ]
    },
    {
      "cell_type": "code",
      "source": [
        "%%writefile script2.n2\n",
        "\n",
        "n1= input(\"Enter the number:\")\n",
        "n2 = input(\"Enter the number:\")\n",
        "\n",
        "if n1>n2:\n",
        "  print(n1 is larger )\n",
        "else:\n",
        "  print(n2 is smaller)\n",
        "\n"
      ],
      "metadata": {
        "id": "6YT9BvwEjKKD"
      },
      "execution_count": null,
      "outputs": []
    }
  ]
}